{
 "cells": [
  {
   "cell_type": "code",
   "execution_count": 1,
   "metadata": {},
   "outputs": [],
   "source": [
    "import findspark\n",
    "findspark.init()"
   ]
  },
  {
   "cell_type": "code",
   "execution_count": 2,
   "metadata": {},
   "outputs": [],
   "source": [
    "import pyspark\n",
    "from pyspark.sql import SparkSession\n",
    "from pyspark.sql import types\n",
    "from pyspark.sql import functions as F\n",
    "from datetime import datetime\n",
    "\n",
    "spark = SparkSession.builder \\\n",
    "    .master(\"local[*]\") \\\n",
    "    .appName('hvfhw') \\\n",
    "    .getOrCreate()"
   ]
  },
  {
   "attachments": {},
   "cell_type": "markdown",
   "metadata": {},
   "source": [
    "# Question 1: "
   ]
  },
  {
   "cell_type": "code",
   "execution_count": 3,
   "metadata": {},
   "outputs": [
    {
     "data": {
      "text/plain": [
       "'3.2.3'"
      ]
     },
     "execution_count": 3,
     "metadata": {},
     "output_type": "execute_result"
    }
   ],
   "source": [
    "spark.version"
   ]
  },
  {
   "attachments": {},
   "cell_type": "markdown",
   "metadata": {},
   "source": [
    "# Answer 1:\n",
    "The version of spark is `3.2.3`."
   ]
  },
  {
   "attachments": {},
   "cell_type": "markdown",
   "metadata": {},
   "source": [
    "# Question 2:"
   ]
  },
  {
   "cell_type": "code",
   "execution_count": 4,
   "metadata": {},
   "outputs": [],
   "source": [
    "#import pandas as pd\n",
    "#\n",
    "#df_github_head = pd.read_csv('fhv_tripdata_2021-06_githubVersion.csv')\n",
    "#df_github_head = df_github_head[:100]\n",
    "#df_nycgov_head.to_csv('head_github.csv',index=False)\n",
    "#\n",
    "#df_nycgov_head = pd.read_parquet('fhvhv_tripdata_2021-06_nycGovVersion.parquet')\n",
    "#df_nycgov_head = df_nycgov_head[:100]\n",
    "#df_nycgov_head = df_nycgov_head[['hvfhs_license_num','dispatching_base_num','pickup_datetime','dropoff_datetime','PULocationID','DOLocationID','shared_request_flag']]\n",
    "#df_nycgov_head.columns = ['hvfhs_license_num','dispatching_base_num','pickup_datetime','dropoff_datetime','PULocationID','DOLocationID','SR_Flag']\n",
    "#df_nycgov_head.to_csv('head_nycgov.csv', index=False)\n",
    "#\n",
    "#df_nycgov = pd.read_parquet('fhvhv_tripdata_2021-06_nycGovVersion.parquet')\n",
    "#df_nycgov = df_nycgov[['hvfhs_license_num','dispatching_base_num','pickup_datetime','dropoff_datetime','PULocationID','DOLocationID','shared_request_flag']]\n",
    "#df_nycgov.columns = ['hvfhs_license_num','dispatching_base_num','pickup_datetime','dropoff_datetime','PULocationID','DOLocationID','SR_Flag']\n",
    "#df_nycgov.to_csv('fhvhv_tripdata_2021-06_nycGovVersion.csv', index=False)"
   ]
  },
  {
   "cell_type": "code",
   "execution_count": 4,
   "metadata": {},
   "outputs": [],
   "source": [
    "schema_github = types.StructType(\n",
    "    [\n",
    "        types.StructField('dispatching_base_num', types.StringType(), True), \n",
    "        types.StructField('pickup_datetime', types.TimestampType(), True), \n",
    "        types.StructField('dropoff_datetime', types.TimestampType(), True), \n",
    "        types.StructField('PULocationID', types.IntegerType(), True), \n",
    "        types.StructField('DOLocationID', types.IntegerType(), True), \n",
    "        types.StructField('SR_Flag', types.StringType(), True),\n",
    "        types.StructField('Affiliated_base_number', types.StringType(), True),\n",
    "    ]\n",
    ")\n",
    "\n",
    "schema_nycgov = types.StructType(\n",
    "    [\n",
    "        types.StructField('hvfhs_license_num', types.StringType(), True), \n",
    "        types.StructField('dispatching_base_num', types.StringType(), True), \n",
    "        types.StructField('pickup_datetime', types.TimestampType(), True), \n",
    "        types.StructField('dropoff_datetime', types.TimestampType(), True), \n",
    "        types.StructField('PULocationID', types.IntegerType(), True), \n",
    "        types.StructField('DOLocationID', types.IntegerType(), True), \n",
    "        types.StructField('SR_Flag', types.StringType(), True),\n",
    "    ]\n",
    ")"
   ]
  },
  {
   "cell_type": "code",
   "execution_count": 5,
   "metadata": {},
   "outputs": [],
   "source": [
    "df_spark_github = spark.read \\\n",
    "                    .option(\"header\", \"true\") \\\n",
    "                    .schema(schema_github) \\\n",
    "                    .csv('fhv_tripdata_2021-06_githubVersion.csv')\n",
    "                    \n",
    "df_spark_nycgov = spark.read \\\n",
    "                    .option(\"header\", \"true\") \\\n",
    "                    .schema(schema_nycgov) \\\n",
    "                    .csv('fhvhv_tripdata_2021-06_nycGovVersion.csv')"
   ]
  },
  {
   "cell_type": "code",
   "execution_count": 7,
   "metadata": {},
   "outputs": [],
   "source": [
    "df_spark_github \\\n",
    "    .repartition(12) \\\n",
    "    .write.parquet('./data_fhvhv/github/pq/', mode='overwrite')\n",
    "    \n",
    "df_spark_nycgov \\\n",
    "    .repartition(12) \\\n",
    "    .write.parquet('./data_fhvhv/nycgov/pq/', mode='overwrite')"
   ]
  },
  {
   "attachments": {},
   "cell_type": "markdown",
   "metadata": {},
   "source": [
    "# Answer 2:\n",
    "The average size of the Parquet file is approximately `24MB` as can be seen in the image below."
   ]
  },
  {
   "cell_type": "markdown",
   "metadata": {},
   "source": [
    "# Question 3:"
   ]
  },
  {
   "cell_type": "code",
   "execution_count": 6,
   "metadata": {},
   "outputs": [
    {
     "data": {
      "text/plain": [
       "452470"
      ]
     },
     "execution_count": 6,
     "metadata": {},
     "output_type": "execute_result"
    }
   ],
   "source": [
    "df_github_q3 = df_spark_github \\\n",
    "                    .withColumn('pickup_date', F.to_date(df_spark_github.pickup_datetime)) \\\n",
    "                    .withColumn('dropoff_date', F.to_date(df_spark_github.dropoff_datetime))\n",
    "                    \n",
    "df_github_q3.where(df_github_q3.pickup_date == datetime(2021, 6, 15)).count()"
   ]
  },
  {
   "cell_type": "code",
   "execution_count": 8,
   "metadata": {},
   "outputs": [
    {
     "data": {
      "text/plain": [
       "452470"
      ]
     },
     "execution_count": 8,
     "metadata": {},
     "output_type": "execute_result"
    }
   ],
   "source": [
    "df_nycgov_q3 = df_spark_nycgov \\\n",
    "                    .withColumn('pickup_date', F.to_date(df_spark_nycgov.pickup_datetime)) \\\n",
    "                    .withColumn('dropoff_date', F.to_date(df_spark_nycgov.dropoff_datetime))\n",
    "                    \n",
    "df_nycgov_q3.where(df_nycgov_q3.pickup_date == datetime(2021, 6, 15)).count()"
   ]
  },
  {
   "attachments": {},
   "cell_type": "markdown",
   "metadata": {},
   "source": [
    "# Answer 3:\n",
    "The total amount of trips that have started on June 15 is `452,470`."
   ]
  },
  {
   "attachments": {},
   "cell_type": "markdown",
   "metadata": {},
   "source": [
    "# Question 4:"
   ]
  },
  {
   "cell_type": "code",
   "execution_count": 9,
   "metadata": {},
   "outputs": [],
   "source": [
    "df_github_q4 = df_spark_github \\\n",
    "                .withColumn('trip_length', F.col('dropoff_datetime') - F.col('pickup_datetime')) \\\n",
    "                .orderBy('trip_length', ascending=False)\n",
    "df_github_q4 = df_github_q4.withColumn('trip_length_extr', F.regexp_extract('trip_length', '\\d\\s\\d{2}:\\d{2}',0)) \\\n",
    "                .drop('trip_length')"
   ]
  },
  {
   "cell_type": "code",
   "execution_count": 10,
   "metadata": {},
   "outputs": [],
   "source": [
    "df_nycgov_q4 = df_spark_nycgov \\\n",
    "                .withColumn('trip_length', F.col('dropoff_datetime') - F.col('pickup_datetime')) \\\n",
    "                .orderBy('trip_length', ascending=False)\n",
    "df_nycgov_q4 = df_nycgov_q4.withColumn('trip_length_extr', F.regexp_extract('trip_length', '\\d\\s\\d{2}:\\d{2}',0)) \\\n",
    "                .drop('trip_length')"
   ]
  },
  {
   "cell_type": "code",
   "execution_count": 11,
   "metadata": {},
   "outputs": [],
   "source": [
    "def transform_dayInterval_to_hours(interval_str):\n",
    "    day = int(interval_str.split(' ')[0])\n",
    "    time_str = interval_str.split(' ')[1]\n",
    "\n",
    "    hour = int(time_str.split(':')[0])\n",
    "    minute = int(time_str.split(':')[1])\n",
    "    \n",
    "    trip_length_in_hours = str(round(day*24 + hour + minute/60, 2))\n",
    "    return trip_length_in_hours\n",
    "\n",
    "transform_dayInterval_to_hours_udf = F.udf(transform_dayInterval_to_hours, returnType=types.StringType())"
   ]
  },
  {
   "cell_type": "code",
   "execution_count": 12,
   "metadata": {},
   "outputs": [
    {
     "name": "stdout",
     "output_type": "stream",
     "text": [
      "+--------------------+-------------------+-------------------+------------+------------+-------+----------------------+-----------------+\n",
      "|dispatching_base_num|    pickup_datetime|   dropoff_datetime|PULocationID|DOLocationID|SR_Flag|Affiliated_base_number|trip_length_hours|\n",
      "+--------------------+-------------------+-------------------+------------+------------+-------+----------------------+-----------------+\n",
      "|              B02872|2021-06-25 13:55:41|2021-06-28 08:48:25|          98|         265|      N|                B02872|            66.87|\n",
      "|              B02765|2021-06-22 12:09:45|2021-06-23 13:42:44|         188|         198|      N|                B02765|            25.53|\n",
      "|              B02879|2021-06-27 10:32:29|2021-06-28 06:31:20|          78|         169|      N|                B02879|            19.97|\n",
      "|              B02800|2021-06-26 22:37:11|2021-06-27 16:49:01|         263|          36|      N|                  null|            18.18|\n",
      "|              B02682|2021-06-23 20:40:43|2021-06-24 13:08:44|           3|         247|      N|                B02682|            16.47|\n",
      "|              B02869|2021-06-23 22:03:31|2021-06-24 12:19:39|         186|         216|      N|                B02869|            14.27|\n",
      "|              B02877|2021-06-24 23:11:00|2021-06-25 13:05:35|         181|          61|      N|                B02877|             13.9|\n",
      "|              B02765|2021-06-04 20:56:02|2021-06-05 08:36:14|          53|         252|      N|                B02765|            11.67|\n",
      "|              B02617|2021-06-27 07:45:19|2021-06-27 19:07:16|         187|         245|      N|                B02617|            11.35|\n",
      "|              B02880|2021-06-20 17:05:12|2021-06-21 04:04:16|         144|         231|      N|                B02880|            10.98|\n",
      "|              B02866|2021-06-01 12:25:29|2021-06-01 22:41:32|          87|         265|      N|                B02866|            10.27|\n",
      "|              B02510|2021-06-01 12:01:46|2021-06-01 21:59:45|          17|          37|      N|                  null|             9.95|\n",
      "|              B02882|2021-06-28 13:13:59|2021-06-28 23:11:58|          39|         131|      N|                B02882|             9.95|\n",
      "|              B02510|2021-06-27 03:52:14|2021-06-27 13:30:30|          42|         242|      N|                  null|             9.63|\n",
      "|              B02510|2021-06-18 08:50:29|2021-06-18 18:27:57|          39|         216|      N|                  null|             9.62|\n",
      "|              B02510|2021-06-08 16:38:14|2021-06-09 02:07:03|         106|         102|      N|                  null|             9.47|\n",
      "|              B02800|2021-06-11 23:26:20|2021-06-12 08:54:38|         132|         140|      N|                  null|             9.47|\n",
      "|              B02510|2021-06-15 06:47:22|2021-06-15 16:11:30|         141|         232|      N|                  null|              9.4|\n",
      "|              B02510|2021-06-25 02:32:24|2021-06-25 11:56:01|          87|         145|      N|                  null|             9.38|\n",
      "|              B02764|2021-06-04 17:41:23|2021-06-05 03:04:00|          26|         238|      N|                B02764|             9.37|\n",
      "+--------------------+-------------------+-------------------+------------+------------+-------+----------------------+-----------------+\n",
      "only showing top 20 rows\n",
      "\n"
     ]
    }
   ],
   "source": [
    "df_github_q4 = df_github_q4 \\\n",
    "                .withColumn('trip_length_hours', transform_dayInterval_to_hours_udf(df_github_q4['trip_length_extr'])) \\\n",
    "                .drop('trip_length_extr')\n",
    "                \n",
    "df_github_q4.show()"
   ]
  },
  {
   "cell_type": "code",
   "execution_count": 13,
   "metadata": {},
   "outputs": [
    {
     "name": "stdout",
     "output_type": "stream",
     "text": [
      "+-----------------+--------------------+-------------------+-------------------+------------+------------+-------+-----------------+\n",
      "|hvfhs_license_num|dispatching_base_num|    pickup_datetime|   dropoff_datetime|PULocationID|DOLocationID|SR_Flag|trip_length_hours|\n",
      "+-----------------+--------------------+-------------------+-------------------+------------+------------+-------+-----------------+\n",
      "|           HV0003|              B02872|2021-06-25 13:55:41|2021-06-28 08:48:25|          98|         265|      N|            66.87|\n",
      "|           HV0003|              B02765|2021-06-22 12:09:45|2021-06-23 13:42:44|         188|         198|      N|            25.53|\n",
      "|           HV0003|              B02879|2021-06-27 10:32:29|2021-06-28 06:31:20|          78|         169|      N|            19.97|\n",
      "|           HV0004|              B02800|2021-06-26 22:37:11|2021-06-27 16:49:01|         263|          36|      N|            18.18|\n",
      "|           HV0003|              B02682|2021-06-23 20:40:43|2021-06-24 13:08:44|           3|         247|      N|            16.47|\n",
      "|           HV0003|              B02869|2021-06-23 22:03:31|2021-06-24 12:19:39|         186|         216|      N|            14.27|\n",
      "|           HV0003|              B02877|2021-06-24 23:11:00|2021-06-25 13:05:35|         181|          61|      N|             13.9|\n",
      "|           HV0003|              B02765|2021-06-04 20:56:02|2021-06-05 08:36:14|          53|         252|      N|            11.67|\n",
      "|           HV0003|              B02617|2021-06-27 07:45:19|2021-06-27 19:07:16|         187|         245|      N|            11.35|\n",
      "|           HV0003|              B02880|2021-06-20 17:05:12|2021-06-21 04:04:16|         144|         231|      N|            10.98|\n",
      "|           HV0003|              B02866|2021-06-01 12:25:29|2021-06-01 22:41:32|          87|         265|      N|            10.27|\n",
      "|           HV0005|              B02510|2021-06-01 12:01:46|2021-06-01 21:59:45|          17|          37|      N|             9.95|\n",
      "|           HV0003|              B02882|2021-06-28 13:13:59|2021-06-28 23:11:58|          39|         131|      N|             9.95|\n",
      "|           HV0005|              B02510|2021-06-27 03:52:14|2021-06-27 13:30:30|          42|         242|      N|             9.63|\n",
      "|           HV0005|              B02510|2021-06-18 08:50:29|2021-06-18 18:27:57|          39|         216|      N|             9.62|\n",
      "|           HV0005|              B02510|2021-06-08 16:38:14|2021-06-09 02:07:03|         106|         102|      N|             9.47|\n",
      "|           HV0004|              B02800|2021-06-11 23:26:20|2021-06-12 08:54:38|         132|         140|      N|             9.47|\n",
      "|           HV0005|              B02510|2021-06-15 06:47:22|2021-06-15 16:11:30|         141|         232|      N|              9.4|\n",
      "|           HV0005|              B02510|2021-06-25 02:32:24|2021-06-25 11:56:01|          87|         145|      N|             9.38|\n",
      "|           HV0003|              B02764|2021-06-04 17:41:23|2021-06-05 03:04:00|          26|         238|      N|             9.37|\n",
      "+-----------------+--------------------+-------------------+-------------------+------------+------------+-------+-----------------+\n",
      "only showing top 20 rows\n",
      "\n"
     ]
    }
   ],
   "source": [
    "df_nycgov_q4 = df_nycgov_q4.withColumn('trip_length_hours', transform_dayInterval_to_hours_udf(df_nycgov_q4['trip_length_extr'])) \\\n",
    "                .drop('trip_length_extr')\n",
    "                \n",
    "df_nycgov_q4.show()"
   ]
  },
  {
   "attachments": {},
   "cell_type": "markdown",
   "metadata": {},
   "source": [
    "# Answer 4:\n",
    "The longest trip took `66.87 Hours`."
   ]
  },
  {
   "attachments": {},
   "cell_type": "markdown",
   "metadata": {},
   "source": [
    "# Question 5:"
   ]
  },
  {
   "cell_type": "code",
   "execution_count": 14,
   "metadata": {},
   "outputs": [
    {
     "data": {
      "text/plain": [
       "'http://host.docker.internal:4040'"
      ]
     },
     "execution_count": 14,
     "metadata": {},
     "output_type": "execute_result"
    }
   ],
   "source": [
    "spark.sparkContext.uiWebUrl"
   ]
  },
  {
   "attachments": {},
   "cell_type": "markdown",
   "metadata": {},
   "source": [
    "# Answer 5:\n",
    "Spark's UI runs on local port `4040`."
   ]
  },
  {
   "attachments": {},
   "cell_type": "markdown",
   "metadata": {},
   "source": [
    "# Question 6:"
   ]
  },
  {
   "cell_type": "code",
   "execution_count": 15,
   "metadata": {},
   "outputs": [
    {
     "name": "stdout",
     "output_type": "stream",
     "text": [
      "+--------------------+--------------------------+\n",
      "|          Start_Zone|Number of Pickups per Zone|\n",
      "+--------------------+--------------------------+\n",
      "| Crown Heights North|                    231279|\n",
      "|        East Village|                    221244|\n",
      "|         JFK Airport|                    188867|\n",
      "|      Bushwick South|                    187929|\n",
      "|       East New York|                    186780|\n",
      "|TriBeCa/Civic Center|                    164344|\n",
      "|   LaGuardia Airport|                    161596|\n",
      "|            Union Sq|                    158937|\n",
      "|        West Village|                    154698|\n",
      "|             Astoria|                    152493|\n",
      "|     Lower East Side|                    151020|\n",
      "|        East Chelsea|                    147673|\n",
      "|Central Harlem North|                    146402|\n",
      "|Williamsburg (Nor...|                    143683|\n",
      "|          Park Slope|                    143594|\n",
      "|  Stuyvesant Heights|                    141427|\n",
      "|        Clinton East|                    139611|\n",
      "|West Chelsea/Huds...|                    139431|\n",
      "|             Bedford|                    138428|\n",
      "|         Murray Hill|                    137879|\n",
      "+--------------------+--------------------------+\n",
      "only showing top 20 rows\n",
      "\n"
     ]
    }
   ],
   "source": [
    "schema_zones = types.StructType(\n",
    "    [\n",
    "        types.StructField('LocationID', types.IntegerType(), True), \n",
    "        types.StructField('Borough', types.StringType(), True), \n",
    "        types.StructField('Zone', types.StringType(), True), \n",
    "        types.StructField('service_zone', types.StringType(), True),\n",
    "    ]\n",
    ")\n",
    "\n",
    "df_zones = spark.read.option('header','true').schema(schema_zones).csv('taxi_zone_lookup.csv')\n",
    "df_zones = df_zones.withColumnRenamed('Zone','Zone_Name')\n",
    "df_zones.createOrReplaceTempView(\"df_zones\")\n",
    "\n",
    "\n",
    "df_github_q6 = df_spark_github\n",
    "\n",
    "df_github_q6 = df_github_q6 \\\n",
    "                .join(df_zones, df_github_q6.PULocationID == df_zones.LocationID) \\\n",
    "                .drop('LocationID') \\\n",
    "                .withColumnRenamed('Borough','Start_Borough') \\\n",
    "                .withColumnRenamed('Zone_Name', 'Start_Zone') \\\n",
    "                .withColumnRenamed('service_zone','Start_Service_Zone')\n",
    "                \n",
    "df_github_q6 = df_github_q6 \\\n",
    "                .join(df_zones, df_github_q6.DOLocationID == df_zones.LocationID) \\\n",
    "                .drop('LocationID') \\\n",
    "                .withColumnRenamed('Borough','End_Borough') \\\n",
    "                .withColumnRenamed('Zone_Name', 'End_Zone') \\\n",
    "                .withColumnRenamed('service_zone','End_Service_Zone')\n",
    "\n",
    "df_github_q6 = df_github_q6 \\\n",
    "                .groupBy('Start_Zone') \\\n",
    "                .count() \\\n",
    "                .orderBy('count',ascending=False) \\\n",
    "                .withColumnRenamed('count','Number of Pickups per Zone')\n",
    "                \n",
    "df_github_q6.show()"
   ]
  },
  {
   "cell_type": "code",
   "execution_count": 16,
   "metadata": {},
   "outputs": [
    {
     "name": "stdout",
     "output_type": "stream",
     "text": [
      "+--------------------+--------------------------+\n",
      "|          Start_Zone|Number of Pickups per Zone|\n",
      "+--------------------+--------------------------+\n",
      "| Crown Heights North|                    231279|\n",
      "|        East Village|                    221244|\n",
      "|         JFK Airport|                    188867|\n",
      "|      Bushwick South|                    187929|\n",
      "|       East New York|                    186780|\n",
      "|TriBeCa/Civic Center|                    164344|\n",
      "|   LaGuardia Airport|                    161596|\n",
      "|            Union Sq|                    158937|\n",
      "|        West Village|                    154698|\n",
      "|             Astoria|                    152493|\n",
      "|     Lower East Side|                    151020|\n",
      "|        East Chelsea|                    147673|\n",
      "|Central Harlem North|                    146402|\n",
      "|Williamsburg (Nor...|                    143683|\n",
      "|          Park Slope|                    143594|\n",
      "|  Stuyvesant Heights|                    141427|\n",
      "|        Clinton East|                    139611|\n",
      "|West Chelsea/Huds...|                    139431|\n",
      "|             Bedford|                    138428|\n",
      "|         Murray Hill|                    137879|\n",
      "+--------------------+--------------------------+\n",
      "only showing top 20 rows\n",
      "\n"
     ]
    }
   ],
   "source": [
    "\n",
    "df_nycgov_q6 = df_spark_nycgov\n",
    "\n",
    "df_nycgov_q6 = df_nycgov_q6 \\\n",
    "                .join(df_zones, df_nycgov_q6.PULocationID == df_zones.LocationID) \\\n",
    "                .drop('LocationID') \\\n",
    "                .withColumnRenamed('Borough','Start_Borough') \\\n",
    "                .withColumnRenamed('Zone_Name', 'Start_Zone') \\\n",
    "                .withColumnRenamed('service_zone','Start_Service_Zone')\n",
    "                \n",
    "df_nycgov_q6 = df_nycgov_q6 \\\n",
    "                .join(df_zones, df_nycgov_q6.DOLocationID == df_zones.LocationID) \\\n",
    "                .drop('LocationID') \\\n",
    "                .withColumnRenamed('Borough','End_Borough') \\\n",
    "                .withColumnRenamed('Zone_Name', 'End_Zone') \\\n",
    "                .withColumnRenamed('service_zone','End_Service_Zone')\n",
    "\n",
    "df_nycgov_q6 = df_nycgov_q6 \\\n",
    "                .groupBy('Start_Zone') \\\n",
    "                .count() \\\n",
    "                .orderBy('count',ascending=False) \\\n",
    "                .withColumnRenamed('count','Number of Pickups per Zone')\n",
    "                \n",
    "df_nycgov_q6.show()"
   ]
  },
  {
   "attachments": {},
   "cell_type": "markdown",
   "metadata": {},
   "source": [
    "# Answer 6\n",
    "The zone with the most pickups is `Crown Heights North` with `231279` trips starting in this location zone."
   ]
  },
  {
   "cell_type": "code",
   "execution_count": 17,
   "metadata": {},
   "outputs": [],
   "source": [
    "spark.stop()"
   ]
  }
 ],
 "metadata": {
  "kernelspec": {
   "display_name": "DTC_DataEngineeringZoomcamp",
   "language": "python",
   "name": "python3"
  },
  "language_info": {
   "codemirror_mode": {
    "name": "ipython",
    "version": 3
   },
   "file_extension": ".py",
   "mimetype": "text/x-python",
   "name": "python",
   "nbconvert_exporter": "python",
   "pygments_lexer": "ipython3",
   "version": "3.9.15"
  },
  "orig_nbformat": 4,
  "vscode": {
   "interpreter": {
    "hash": "e7597034c4a2a2d2290d33f45e582810e30659e95a75f73daed30af562618c62"
   }
  }
 },
 "nbformat": 4,
 "nbformat_minor": 2
}
