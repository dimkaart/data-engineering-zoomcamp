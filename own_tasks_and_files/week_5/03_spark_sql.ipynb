{
 "cells": [
  {
   "cell_type": "code",
   "execution_count": 23,
   "metadata": {},
   "outputs": [],
   "source": [
    "import findspark\n",
    "findspark.init()"
   ]
  },
  {
   "cell_type": "code",
   "execution_count": 24,
   "metadata": {},
   "outputs": [
    {
     "data": {
      "text/plain": [
       "'C:\\\\tools\\\\spark-3.0.3-bin-hadoop3.2\\\\python\\\\pyspark\\\\__init__.py'"
      ]
     },
     "execution_count": 24,
     "metadata": {},
     "output_type": "execute_result"
    }
   ],
   "source": [
    "import pyspark\n",
    "from pyspark.sql import SparkSession\n",
    "from pyspark.sql import functions as F\n",
    "pyspark.__file__"
   ]
  },
  {
   "cell_type": "code",
   "execution_count": 25,
   "metadata": {},
   "outputs": [],
   "source": [
    "spark = SparkSession.builder.master(\"local[*]\").appName(\"test\").getOrCreate()"
   ]
  },
  {
   "cell_type": "code",
   "execution_count": 26,
   "metadata": {},
   "outputs": [
    {
     "data": {
      "text/plain": [
       "'http://DESKTOP-GLKIGTM.mshome.net:4041'"
      ]
     },
     "execution_count": 26,
     "metadata": {},
     "output_type": "execute_result"
    }
   ],
   "source": [
    "spark.sparkContext.uiWebUrl"
   ]
  },
  {
   "cell_type": "code",
   "execution_count": 27,
   "metadata": {},
   "outputs": [],
   "source": [
    "df_green = spark.read.parquet('data/pq/green/*/*')\n",
    "df_yellow = spark.read.parquet('data/pq/yellow/*/*')"
   ]
  },
  {
   "cell_type": "code",
   "execution_count": 28,
   "metadata": {},
   "outputs": [
    {
     "name": "stdout",
     "output_type": "stream",
     "text": [
      "root\n",
      " |-- VendorID: integer (nullable = true)\n",
      " |-- lpep_pickup_datetime: timestamp (nullable = true)\n",
      " |-- lpep_dropoff_datetime: timestamp (nullable = true)\n",
      " |-- store_and_fwd_flag: string (nullable = true)\n",
      " |-- RatecodeID: integer (nullable = true)\n",
      " |-- PULocationID: integer (nullable = true)\n",
      " |-- DOLocationID: integer (nullable = true)\n",
      " |-- passenger_count: integer (nullable = true)\n",
      " |-- trip_distance: double (nullable = true)\n",
      " |-- fare_amount: double (nullable = true)\n",
      " |-- extra: double (nullable = true)\n",
      " |-- mta_tax: double (nullable = true)\n",
      " |-- tip_amount: double (nullable = true)\n",
      " |-- tolls_amount: double (nullable = true)\n",
      " |-- ehail_fee: double (nullable = true)\n",
      " |-- improvement_surcharge: double (nullable = true)\n",
      " |-- total_amount: double (nullable = true)\n",
      " |-- payment_type: integer (nullable = true)\n",
      " |-- trip_type: integer (nullable = true)\n",
      " |-- congestion_surcharge: double (nullable = true)\n",
      "\n"
     ]
    }
   ],
   "source": [
    "df_green.printSchema()"
   ]
  },
  {
   "cell_type": "code",
   "execution_count": 29,
   "metadata": {},
   "outputs": [
    {
     "name": "stdout",
     "output_type": "stream",
     "text": [
      "root\n",
      " |-- VendorID: integer (nullable = true)\n",
      " |-- tpep_pickup_datetime: timestamp (nullable = true)\n",
      " |-- tpep_dropoff_datetime: timestamp (nullable = true)\n",
      " |-- passenger_count: integer (nullable = true)\n",
      " |-- trip_distance: double (nullable = true)\n",
      " |-- RatecodeID: integer (nullable = true)\n",
      " |-- store_and_fwd_flag: string (nullable = true)\n",
      " |-- PULocationID: integer (nullable = true)\n",
      " |-- DOLocationID: integer (nullable = true)\n",
      " |-- payment_type: integer (nullable = true)\n",
      " |-- fare_amount: double (nullable = true)\n",
      " |-- extra: double (nullable = true)\n",
      " |-- mta_tax: double (nullable = true)\n",
      " |-- tip_amount: double (nullable = true)\n",
      " |-- tolls_amount: double (nullable = true)\n",
      " |-- improvement_surcharge: double (nullable = true)\n",
      " |-- total_amount: double (nullable = true)\n",
      " |-- congestion_surcharge: double (nullable = true)\n",
      "\n"
     ]
    }
   ],
   "source": [
    "df_yellow.printSchema()"
   ]
  },
  {
   "cell_type": "code",
   "execution_count": 30,
   "metadata": {},
   "outputs": [],
   "source": [
    "df_green = df_green.withColumnRenamed('lpep_pickup_datetime', 'pickup_datetime').withColumnRenamed('lpep_dropoff_datetime', 'dropoff_datetime')\n",
    "\n",
    "df_yellow = df_yellow.withColumnRenamed('tpep_dropoff_datetime', 'dropoff_datetime').withColumnRenamed('tpep_pickup_datetime', 'pickup_datetime')"
   ]
  },
  {
   "cell_type": "code",
   "execution_count": 31,
   "metadata": {},
   "outputs": [
    {
     "data": {
      "text/plain": [
       "{'DOLocationID',\n",
       " 'PULocationID',\n",
       " 'RatecodeID',\n",
       " 'VendorID',\n",
       " 'congestion_surcharge',\n",
       " 'dropoff_datetime',\n",
       " 'extra',\n",
       " 'fare_amount',\n",
       " 'improvement_surcharge',\n",
       " 'mta_tax',\n",
       " 'passenger_count',\n",
       " 'payment_type',\n",
       " 'pickup_datetime',\n",
       " 'store_and_fwd_flag',\n",
       " 'tip_amount',\n",
       " 'tolls_amount',\n",
       " 'total_amount',\n",
       " 'trip_distance'}"
      ]
     },
     "execution_count": 31,
     "metadata": {},
     "output_type": "execute_result"
    }
   ],
   "source": [
    "col_green = set(df_green.columns)\n",
    "col_yellow = set(df_yellow.columns)\n",
    "\n",
    "col_green.intersection(col_yellow)"
   ]
  },
  {
   "cell_type": "code",
   "execution_count": 32,
   "metadata": {},
   "outputs": [
    {
     "data": {
      "text/plain": [
       "['VendorID',\n",
       " 'pickup_datetime',\n",
       " 'dropoff_datetime',\n",
       " 'store_and_fwd_flag',\n",
       " 'RatecodeID',\n",
       " 'PULocationID',\n",
       " 'DOLocationID',\n",
       " 'passenger_count',\n",
       " 'trip_distance',\n",
       " 'fare_amount',\n",
       " 'extra',\n",
       " 'mta_tax',\n",
       " 'tip_amount',\n",
       " 'tolls_amount',\n",
       " 'improvement_surcharge',\n",
       " 'total_amount',\n",
       " 'payment_type',\n",
       " 'congestion_surcharge']"
      ]
     },
     "execution_count": 32,
     "metadata": {},
     "output_type": "execute_result"
    }
   ],
   "source": [
    "common_col = []\n",
    "for col in df_green.columns:\n",
    "    if col in col_yellow:\n",
    "        common_col.append(col)\n",
    "    \n",
    "common_col"
   ]
  },
  {
   "cell_type": "code",
   "execution_count": 33,
   "metadata": {},
   "outputs": [],
   "source": [
    "df_green_sel = df_green.select(common_col).withColumn('service_type', F.lit('green'))\n",
    "df_yellow_sel = df_yellow.select(common_col).withColumn('service_type', F.lit('yellow'))"
   ]
  },
  {
   "cell_type": "code",
   "execution_count": 34,
   "metadata": {},
   "outputs": [],
   "source": [
    "df_trips_data = df_green_sel.unionAll(df_yellow_sel)"
   ]
  },
  {
   "cell_type": "code",
   "execution_count": 35,
   "metadata": {},
   "outputs": [
    {
     "name": "stdout",
     "output_type": "stream",
     "text": [
      "+------------+--------+\n",
      "|service_type|   count|\n",
      "+------------+--------+\n",
      "|       green| 2304517|\n",
      "|      yellow|39649199|\n",
      "+------------+--------+\n",
      "\n"
     ]
    }
   ],
   "source": [
    "df_trips_data.groupBy('service_type').count().show()"
   ]
  },
  {
   "cell_type": "code",
   "execution_count": 36,
   "metadata": {},
   "outputs": [],
   "source": [
    "df_trips_data.registerTempTable('trips_data')"
   ]
  },
  {
   "cell_type": "code",
   "execution_count": 37,
   "metadata": {},
   "outputs": [
    {
     "name": "stdout",
     "output_type": "stream",
     "text": [
      "+------------+--------+\n",
      "|service_type|count(1)|\n",
      "+------------+--------+\n",
      "|       green| 2304517|\n",
      "|      yellow|39649199|\n",
      "+------------+--------+\n",
      "\n"
     ]
    }
   ],
   "source": [
    "spark.sql(\"\"\"\n",
    "SELECT service_type, count(1) \n",
    "FROM trips_data \n",
    "GROUP BY service_type\n",
    "LIMIT 10;      \n",
    "\"\"\").show()"
   ]
  },
  {
   "cell_type": "code",
   "execution_count": 38,
   "metadata": {},
   "outputs": [],
   "source": [
    "df_result = spark.sql(\"\"\"\n",
    "SELECT \n",
    "    -- Reveneue grouping \n",
    "    PULocationID AS revenue_zone,\n",
    "    date_trunc('month', pickup_datetime) AS revenue_month, \n",
    "    service_type, \n",
    "\n",
    "    -- Revenue calculation \n",
    "    SUM(fare_amount) AS revenue_monthly_fare,\n",
    "    SUM(extra) AS revenue_monthly_extra,\n",
    "    SUM(mta_tax) AS revenue_monthly_mta_tax,\n",
    "    SUM(tip_amount) AS revenue_monthly_tip_amount,\n",
    "    SUM(tolls_amount) AS revenue_monthly_tolls_amount,\n",
    "    SUM(improvement_surcharge) AS revenue_monthly_improvement_surcharge,\n",
    "    SUM(total_amount) AS revenue_monthly_total_amount,\n",
    "    SUM(congestion_surcharge) AS revenue_monthly_congestion_surcharge,\n",
    "\n",
    "    -- Additional calculations\n",
    "    AVG(passenger_count) AS avg_montly_passenger_count,\n",
    "    AVG(trip_distance) AS avg_montly_trip_distance\n",
    "\n",
    "FROM \n",
    "    trips_data\n",
    "GROUP BY \n",
    "    revenue_zone, revenue_month, service_type\n",
    "\"\"\")"
   ]
  },
  {
   "cell_type": "code",
   "execution_count": 39,
   "metadata": {},
   "outputs": [
    {
     "name": "stdout",
     "output_type": "stream",
     "text": [
      "+------------+-------------------+------------+--------------------+---------------------+-----------------------+--------------------------+----------------------------+-------------------------------------+----------------------------+------------------------------------+--------------------------+------------------------+\n",
      "|revenue_zone|      revenue_month|service_type|revenue_monthly_fare|revenue_monthly_extra|revenue_monthly_mta_tax|revenue_monthly_tip_amount|revenue_monthly_tolls_amount|revenue_monthly_improvement_surcharge|revenue_monthly_total_amount|revenue_monthly_congestion_surcharge|avg_montly_passenger_count|avg_montly_trip_distance|\n",
      "+------------+-------------------+------------+--------------------+---------------------+-----------------------+--------------------------+----------------------------+-------------------------------------+----------------------------+------------------------------------+--------------------------+------------------------+\n",
      "|         127|2020-02-01 00:00:00|       green|            21571.68|               890.75|                  495.0|        1050.5199999999998|          488.80000000000024|                   345.00000000000165|          25119.149999999878|                               264.0|        1.1945837512537614|       4.583894472361809|\n",
      "|           9|2020-02-01 00:00:00|       green|   7251.639999999996|               643.25|                   25.0|         7.720000000000001|          183.20000000000002|                    77.99999999999997|           8193.510000000002|                                2.75|        1.1219512195121952|      445.80187969924816|\n",
      "|           6|2020-02-01 00:00:00|       green|                46.5|                  0.0|                    0.5|                       0.0|                       18.36|                                  0.3|                       68.41|                                2.75|                       1.0|                   16.94|\n",
      "|          18|2020-03-01 00:00:00|       green|   9502.129999999997|                 69.5|                  100.0|                     78.06|           414.1400000000002|                   136.19999999999942|          10401.980000000016|                                 5.5|        1.1727272727272726|       5.481708860759494|\n",
      "|         115|2020-10-01 00:00:00|       green|               641.0|                  3.0|                    4.5|                     37.87|                      140.76|                    4.499999999999999|           834.3799999999998|                                 0.0|        1.5555555555555556|                  12.714|\n",
      "|         125|2020-10-01 00:00:00|       green|               87.57|                  0.0|                    0.0|                       5.5|                         0.0|                                  0.6|                       93.67|                                null|                      null|                    6.42|\n",
      "|          65|2020-11-01 00:00:00|       green|   22636.97000000004|                495.0|                  635.5|         2793.939999999999|          101.71000000000002|                    444.3000000000111|          27289.819999999658|                               239.0|         1.206734534064213|      3.2088559892328354|\n",
      "|         223|2021-05-01 00:00:00|       green|   5070.829999999997|                343.7|                   55.0|                    331.89|          209.60000000000002|                    76.19999999999985|           6139.470000000005|                               35.75|        1.1217391304347826|      19.433622047244082|\n",
      "|         133|2021-05-01 00:00:00|       green|  3826.0599999999986|                314.5|                   12.0|         7.880000000000001|           85.14999999999998|                   40.200000000000045|                     4287.74|                                 0.0|        1.5416666666666667|                    6.22|\n",
      "|          95|2020-09-01 00:00:00|       green|   39805.12000000002|               719.75|                 1015.0|         4491.899999999999|           720.4900000000002|                    761.4000000000117|           47747.40999999967|                              239.25|        1.1981852913085005|      16.418987587276956|\n",
      "|         174|2020-09-01 00:00:00|       green|  12869.790000000005|                 14.0|                   43.0|                   1256.91|           496.1800000000002|                   149.69999999999965|          14839.780000000017|                                2.75|        1.1829268292682926|      118.68130260521045|\n",
      "|         265|2020-09-01 00:00:00|       green|             5645.54|                 15.5|                   31.5|                    311.77|                      202.79|                   36.300000000000026|           6247.300000000002|                                 0.0|        1.2533333333333334|      10.596260162601626|\n",
      "|          74|2021-08-01 00:00:00|       green|                36.0|                  1.0|                    1.0|                      4.86|                         0.0|                                  0.6|                       43.46|                                 0.0|                       1.0|                   4.475|\n",
      "|          79|2021-03-01 00:00:00|       green|              386.75|                 38.5|                    0.0|                       0.0|                        30.6|                                  4.5|                      460.35|                                null|                      null|       6.479333333333333|\n",
      "|           9|2021-03-01 00:00:00|       green|             2197.88|                229.6|                    1.5|                      5.06|                       12.24|                   24.600000000000016|                     2470.88|                                 0.0|                       1.4|       5.358780487804876|\n",
      "|          83|2021-03-01 00:00:00|       green|             2956.29|               218.75|                   38.5|                    191.99|                       24.48|                    49.50000000000007|          3493.2600000000007|                               13.75|        1.3218390804597702|      3.3514201183431944|\n",
      "|         178|2021-03-01 00:00:00|       green|              816.49|                 93.5|                    1.0|                       0.0|                       32.89|                   10.199999999999998|           954.0800000000002|                                 0.0|                       1.0|                    4.68|\n",
      "|          94|2020-12-01 00:00:00|       green|   4086.470000000001|                  6.0|                   16.0|                     374.0|                       68.83|                    48.00000000000007|           4602.049999999999|                                 0.0|        1.1944444444444444|       5.336312500000001|\n",
      "|          69|2020-12-01 00:00:00|       green|  12520.730000000003|                 29.0|                   54.5|        1013.8900000000001|           397.3100000000002|                    147.8999999999993|          14168.830000000024|                                2.75|        1.4655172413793103|       5.262520161290323|\n",
      "|          27|2020-12-01 00:00:00|       green|               53.71|                  0.0|                    0.0|                      5.86|                        4.58|                                  0.3|                       64.45|                                null|                      null|                   13.63|\n",
      "+------------+-------------------+------------+--------------------+---------------------+-----------------------+--------------------------+----------------------------+-------------------------------------+----------------------------+------------------------------------+--------------------------+------------------------+\n",
      "only showing top 20 rows\n",
      "\n"
     ]
    }
   ],
   "source": [
    "df_result.show()"
   ]
  },
  {
   "cell_type": "code",
   "execution_count": 40,
   "metadata": {},
   "outputs": [],
   "source": [
    "df_result.coalesce(1).write.parquet('data/report/revenue/trips_data/', mode='overwrite')"
   ]
  },
  {
   "cell_type": "code",
   "execution_count": null,
   "metadata": {},
   "outputs": [],
   "source": [
    "spark.stop()"
   ]
  }
 ],
 "metadata": {
  "kernelspec": {
   "display_name": "DTC_pyspark",
   "language": "python",
   "name": "python3"
  },
  "language_info": {
   "codemirror_mode": {
    "name": "ipython",
    "version": 3
   },
   "file_extension": ".py",
   "mimetype": "text/x-python",
   "name": "python",
   "nbconvert_exporter": "python",
   "pygments_lexer": "ipython3",
   "version": "3.9.16"
  },
  "orig_nbformat": 4,
  "vscode": {
   "interpreter": {
    "hash": "825b62e52d4419b2f114de154bf54b39d85add2aaf9e637fb81765cc150954ec"
   }
  }
 },
 "nbformat": 4,
 "nbformat_minor": 2
}
