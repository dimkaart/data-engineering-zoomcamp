{
 "cells": [
  {
   "cell_type": "code",
   "execution_count": 2,
   "id": "c0f52492",
   "metadata": {},
   "outputs": [],
   "source": [
    "import findspark\n",
    "findspark.init()"
   ]
  },
  {
   "cell_type": "code",
   "execution_count": 3,
   "id": "4341e0e6",
   "metadata": {},
   "outputs": [],
   "source": [
    "import pyspark\n",
    "from pyspark.sql import SparkSession\n",
    "\n",
    "spark = SparkSession.builder \\\n",
    "    .master(\"local[*]\") \\\n",
    "    .appName('test') \\\n",
    "    .getOrCreate()"
   ]
  },
  {
   "cell_type": "code",
   "execution_count": 4,
   "id": "d9334ebc",
   "metadata": {},
   "outputs": [
    {
     "data": {
      "text/plain": [
       "'http://DESKTOP-GLKIGTM.mshome.net:4040'"
      ]
     },
     "execution_count": 4,
     "metadata": {},
     "output_type": "execute_result"
    }
   ],
   "source": [
    "spark.sparkContext.uiWebUrl"
   ]
  },
  {
   "cell_type": "code",
   "execution_count": 5,
   "id": "cd304aec",
   "metadata": {},
   "outputs": [],
   "source": [
    "df_green = spark.read.parquet('data/pq/green/*/*')"
   ]
  },
  {
   "cell_type": "code",
   "execution_count": 6,
   "id": "243991f3",
   "metadata": {},
   "outputs": [],
   "source": [
    "df_green.registerTempTable('green')"
   ]
  },
  {
   "cell_type": "code",
   "execution_count": 7,
   "id": "e43764a7",
   "metadata": {},
   "outputs": [],
   "source": [
    "df_green_revenue = spark.sql(\"\"\"\n",
    "SELECT \n",
    "    date_trunc('hour', lpep_pickup_datetime) AS hour, \n",
    "    PULocationID AS zone,\n",
    "\n",
    "    SUM(total_amount) AS amount,\n",
    "    COUNT(1) AS number_records\n",
    "FROM\n",
    "    green\n",
    "WHERE\n",
    "    lpep_pickup_datetime >= '2020-01-01 00:00:00'\n",
    "GROUP BY\n",
    "    1, 2\n",
    "ORDER BY\n",
    "    1, 2\n",
    "\"\"\")"
   ]
  },
  {
   "cell_type": "code",
   "execution_count": 8,
   "id": "98dec16e",
   "metadata": {},
   "outputs": [
    {
     "name": "stdout",
     "output_type": "stream",
     "text": [
      "+-------------------+----+------------------+--------------+\n",
      "|               hour|zone|            amount|number_records|\n",
      "+-------------------+----+------------------+--------------+\n",
      "|2020-01-01 00:00:00|   7| 769.7300000000002|            45|\n",
      "|2020-01-01 00:00:00|  17|195.02999999999997|             9|\n",
      "|2020-01-01 00:00:00|  18|               7.8|             1|\n",
      "|2020-01-01 00:00:00|  22|              15.8|             1|\n",
      "|2020-01-01 00:00:00|  24|              87.6|             3|\n",
      "|2020-01-01 00:00:00|  25|             531.0|            26|\n",
      "|2020-01-01 00:00:00|  29|              61.3|             1|\n",
      "|2020-01-01 00:00:00|  32| 68.94999999999999|             2|\n",
      "|2020-01-01 00:00:00|  33|            317.27|            11|\n",
      "|2020-01-01 00:00:00|  35|            129.96|             5|\n",
      "|2020-01-01 00:00:00|  36|295.34000000000003|            11|\n",
      "|2020-01-01 00:00:00|  37|            175.67|             6|\n",
      "|2020-01-01 00:00:00|  38| 98.78999999999999|             2|\n",
      "|2020-01-01 00:00:00|  40|            168.98|             8|\n",
      "|2020-01-01 00:00:00|  41|1363.9599999999998|            84|\n",
      "|2020-01-01 00:00:00|  42| 799.7600000000002|            52|\n",
      "|2020-01-01 00:00:00|  43|            107.52|             6|\n",
      "|2020-01-01 00:00:00|  47|              13.3|             1|\n",
      "|2020-01-01 00:00:00|  49|            266.76|            14|\n",
      "|2020-01-01 00:00:00|  51|              17.8|             2|\n",
      "+-------------------+----+------------------+--------------+\n",
      "only showing top 20 rows\n",
      "\n"
     ]
    }
   ],
   "source": [
    "df_green_revenue.show()"
   ]
  },
  {
   "cell_type": "code",
   "execution_count": 9,
   "id": "3e00310e",
   "metadata": {},
   "outputs": [],
   "source": [
    "df_green_revenue \\\n",
    "    .repartition(20) \\\n",
    "    .write.parquet('data/report/revenue/green', mode='overwrite')"
   ]
  },
  {
   "cell_type": "code",
   "execution_count": 10,
   "id": "07ebb68c",
   "metadata": {},
   "outputs": [],
   "source": [
    "df_yellow = spark.read.parquet('data/pq/yellow/*/*')\n",
    "df_yellow.registerTempTable('yellow')"
   ]
  },
  {
   "cell_type": "code",
   "execution_count": 11,
   "id": "9d5be29d",
   "metadata": {},
   "outputs": [],
   "source": [
    "df_yellow_revenue = spark.sql(\"\"\"\n",
    "SELECT \n",
    "    date_trunc('hour', tpep_pickup_datetime) AS hour, \n",
    "    PULocationID AS zone,\n",
    "\n",
    "    SUM(total_amount) AS amount,\n",
    "    COUNT(1) AS number_records\n",
    "FROM\n",
    "    yellow\n",
    "WHERE\n",
    "    tpep_pickup_datetime >= '2020-01-01 00:00:00'\n",
    "GROUP BY\n",
    "    1, 2\n",
    "ORDER BY\n",
    "    1, 2\n",
    "\"\"\")"
   ]
  },
  {
   "cell_type": "code",
   "execution_count": 12,
   "id": "6f50fdca",
   "metadata": {},
   "outputs": [
    {
     "name": "stdout",
     "output_type": "stream",
     "text": [
      "+-------------------+----+------------------+--------------+\n",
      "|               hour|zone|            amount|number_records|\n",
      "+-------------------+----+------------------+--------------+\n",
      "|2020-01-01 00:00:00|   3|              25.0|             1|\n",
      "|2020-01-01 00:00:00|   4|1004.3000000000002|            57|\n",
      "|2020-01-01 00:00:00|   7|            455.17|            38|\n",
      "|2020-01-01 00:00:00|  10|             42.41|             2|\n",
      "|2020-01-01 00:00:00|  12|             107.0|             6|\n",
      "|2020-01-01 00:00:00|  13|1214.8000000000002|            56|\n",
      "|2020-01-01 00:00:00|  14|               8.8|             1|\n",
      "|2020-01-01 00:00:00|  15|             34.09|             1|\n",
      "|2020-01-01 00:00:00|  17|220.20999999999998|             8|\n",
      "|2020-01-01 00:00:00|  18|               5.8|             1|\n",
      "|2020-01-01 00:00:00|  24|            754.95|            45|\n",
      "|2020-01-01 00:00:00|  25|            324.35|            16|\n",
      "|2020-01-01 00:00:00|  32|              18.0|             1|\n",
      "|2020-01-01 00:00:00|  33|            255.56|             8|\n",
      "|2020-01-01 00:00:00|  34|              19.3|             1|\n",
      "|2020-01-01 00:00:00|  36|            109.17|             3|\n",
      "|2020-01-01 00:00:00|  37|            161.61|             7|\n",
      "|2020-01-01 00:00:00|  40|             89.97|             5|\n",
      "|2020-01-01 00:00:00|  41|1256.5300000000004|            80|\n",
      "|2020-01-01 00:00:00|  42|            635.35|            46|\n",
      "+-------------------+----+------------------+--------------+\n",
      "only showing top 20 rows\n",
      "\n"
     ]
    }
   ],
   "source": [
    "df_yellow_revenue.show()"
   ]
  },
  {
   "cell_type": "code",
   "execution_count": 13,
   "id": "8bd9264e",
   "metadata": {},
   "outputs": [],
   "source": [
    "df_yellow_revenue \\\n",
    "    .repartition(20) \\\n",
    "    .write.parquet('data/report/revenue/yellow', mode='overwrite')"
   ]
  },
  {
   "cell_type": "code",
   "execution_count": 14,
   "id": "fd5d74d7",
   "metadata": {},
   "outputs": [],
   "source": [
    "df_green_revenue = spark.read.parquet('data/report/revenue/green')\n",
    "df_yellow_revenue = spark.read.parquet('data/report/revenue/yellow')"
   ]
  },
  {
   "cell_type": "code",
   "execution_count": 15,
   "id": "35015ee6",
   "metadata": {},
   "outputs": [],
   "source": [
    "df_green_revenue_tmp = df_green_revenue \\\n",
    "    .withColumnRenamed('amount', 'green_amount') \\\n",
    "    .withColumnRenamed('number_records', 'green_number_records')\n",
    "\n",
    "df_yellow_revenue_tmp = df_yellow_revenue \\\n",
    "    .withColumnRenamed('amount', 'yellow_amount') \\\n",
    "    .withColumnRenamed('number_records', 'yellow_number_records')"
   ]
  },
  {
   "cell_type": "code",
   "execution_count": 16,
   "id": "ec9f34ea",
   "metadata": {},
   "outputs": [],
   "source": [
    "df_join = df_green_revenue_tmp.join(df_yellow_revenue_tmp, on=['hour', 'zone'], how='outer')"
   ]
  },
  {
   "cell_type": "code",
   "execution_count": 17,
   "id": "862f8b9d",
   "metadata": {},
   "outputs": [
    {
     "name": "stdout",
     "output_type": "stream",
     "text": [
      "+-------------------+----+------------------+--------------------+------------------+---------------------+\n",
      "|               hour|zone|      green_amount|green_number_records|     yellow_amount|yellow_number_records|\n",
      "+-------------------+----+------------------+--------------------+------------------+---------------------+\n",
      "|2020-01-01 00:00:00|  65|199.48999999999998|                  10| 409.3500000000001|                   19|\n",
      "|2020-01-01 00:00:00| 161|              null|                null|           9410.21|                  488|\n",
      "|2020-01-01 01:00:00|   3|46.230000000000004|                   2|              null|                 null|\n",
      "|2020-01-01 02:00:00|  17|200.02999999999997|                  11|            315.57|                   16|\n",
      "|2020-01-01 02:00:00| 107|              null|                null|7876.8699999999935|                  485|\n",
      "|2020-01-01 02:00:00| 162|              null|                null| 3101.869999999999|                  180|\n",
      "|2020-01-01 03:00:00| 234|              null|                null| 4147.189999999999|                  223|\n",
      "|2020-01-01 04:00:00| 170|              null|                null|            2306.2|                  135|\n",
      "|2020-01-01 05:00:00|  22|              null|                null|               0.0|                    2|\n",
      "|2020-01-01 06:00:00|  10|              null|                null|            193.48|                    5|\n",
      "|2020-01-01 07:00:00| 255|              null|                null|              35.8|                    1|\n",
      "|2020-01-01 10:00:00|  70|              30.8|                   1|              null|                 null|\n",
      "|2020-01-01 11:00:00| 153|              null|                null|               9.3|                    1|\n",
      "|2020-01-01 11:00:00| 181| 49.64000000000001|                   5|              35.8|                    1|\n",
      "|2020-01-01 14:00:00| 224|              null|                null|            436.15|                   19|\n",
      "|2020-01-01 16:00:00| 123|              null|                null|              51.9|                    1|\n",
      "|2020-01-01 19:00:00|  68|              null|                null|3672.4399999999982|                  217|\n",
      "|2020-01-01 20:00:00| 100|              null|                null|           2421.05|                  140|\n",
      "|2020-01-01 20:00:00| 155|              null|                null|            105.39|                    2|\n",
      "|2020-01-02 00:00:00| 234|              null|                null| 730.1300000000001|                   47|\n",
      "+-------------------+----+------------------+--------------------+------------------+---------------------+\n",
      "only showing top 20 rows\n",
      "\n"
     ]
    }
   ],
   "source": [
    "df_join.show()"
   ]
  },
  {
   "cell_type": "code",
   "execution_count": 18,
   "id": "10238be7",
   "metadata": {},
   "outputs": [],
   "source": [
    "df_join \\\n",
    "    .repartition(20) \\\n",
    "    .write.parquet('data/report/revenue/total', mode='overwrite')"
   ]
  },
  {
   "cell_type": "code",
   "execution_count": 19,
   "id": "c3af7169",
   "metadata": {},
   "outputs": [],
   "source": [
    "df_join = spark.read.parquet('data/report/revenue/total')"
   ]
  },
  {
   "cell_type": "code",
   "execution_count": 20,
   "id": "bc2a6680",
   "metadata": {},
   "outputs": [
    {
     "data": {
      "text/plain": [
       "DataFrame[hour: timestamp, zone: int, green_amount: double, green_number_records: bigint, yellow_amount: double, yellow_number_records: bigint]"
      ]
     },
     "execution_count": 20,
     "metadata": {},
     "output_type": "execute_result"
    }
   ],
   "source": [
    "df_join"
   ]
  },
  {
   "cell_type": "code",
   "execution_count": 21,
   "metadata": {},
   "outputs": [
    {
     "name": "stdout",
     "output_type": "stream",
     "text": [
      "+-------------------+----+------------+--------------------+------------------+---------------------+\n",
      "|               hour|zone|green_amount|green_number_records|     yellow_amount|yellow_number_records|\n",
      "+-------------------+----+------------+--------------------+------------------+---------------------+\n",
      "|2021-02-21 12:00:00| 220|        null|                null| 89.19999999999999|                    3|\n",
      "|2020-09-08 15:00:00| 244|      212.12|                  10|            178.44|                    6|\n",
      "|2021-04-30 02:00:00|  93|        28.8|                   1|              null|                 null|\n",
      "|2021-03-26 17:00:00| 180|       36.86|                   1|              null|                 null|\n",
      "|2020-11-15 14:00:00|  35|        22.0|                   1|             39.76|                    1|\n",
      "|2020-03-05 23:00:00|  70|        15.3|                   1|              null|                 null|\n",
      "|2020-12-02 08:00:00|  36|        null|                null|             25.96|                    1|\n",
      "|2020-02-11 09:00:00| 125|        null|                null|           1308.71|                   82|\n",
      "|2020-01-25 05:00:00| 162|        null|                null|            515.88|                   25|\n",
      "|2020-08-27 20:00:00| 181|        null|                null|              22.0|                    1|\n",
      "|2021-06-08 17:00:00| 163|        null|                null| 4461.119999999997|                  249|\n",
      "|2020-01-15 05:00:00|  24|        null|                null|             87.84|                    7|\n",
      "|2020-08-02 19:00:00| 152|        null|                null|              33.3|                    1|\n",
      "|2020-04-10 04:00:00|  91|       24.79|                   1|             19.87|                    1|\n",
      "|2020-04-20 00:00:00| 236|        null|                null|             31.01|                    2|\n",
      "|2021-05-13 03:00:00| 232|        null|                null|             32.27|                    1|\n",
      "|2021-07-22 13:00:00| 163|        null|                null|2668.7799999999984|                  161|\n",
      "|2020-07-07 09:00:00| 148|        null|                null|              10.8|                    1|\n",
      "|2020-12-29 21:00:00|  50|        null|                null|            142.63|                    5|\n",
      "|2021-07-25 21:00:00| 234|        null|                null|1413.7200000000003|                   93|\n",
      "+-------------------+----+------------+--------------------+------------------+---------------------+\n",
      "only showing top 20 rows\n",
      "\n"
     ]
    }
   ],
   "source": [
    "df_join.show()"
   ]
  },
  {
   "cell_type": "code",
   "execution_count": 33,
   "id": "abb46398",
   "metadata": {},
   "outputs": [],
   "source": [
    "df_zones = spark.read.parquet('data/zones/')\n",
    "df_zones = df_zones.withColumnRenamed('Zone','Zone_Name')"
   ]
  },
  {
   "cell_type": "code",
   "execution_count": 34,
   "id": "b3cf98a5",
   "metadata": {},
   "outputs": [],
   "source": [
    "df_result = df_join.join(df_zones, df_join.zone == df_zones.LocationID)"
   ]
  },
  {
   "cell_type": "code",
   "execution_count": 35,
   "id": "8bd1526a",
   "metadata": {},
   "outputs": [
    {
     "name": "stdout",
     "output_type": "stream",
     "text": [
      "+-------------------+----+------------+--------------------+------------------+---------------------+----------+---------+--------------------+------------+\n",
      "|               hour|zone|green_amount|green_number_records|     yellow_amount|yellow_number_records|LocationID|  Borough|           Zone_Name|service_zone|\n",
      "+-------------------+----+------------+--------------------+------------------+---------------------+----------+---------+--------------------+------------+\n",
      "|2021-02-21 12:00:00| 220|        null|                null| 89.19999999999999|                    3|       220|    Bronx|Spuyten Duyvil/Ki...|   Boro Zone|\n",
      "|2020-09-08 15:00:00| 244|      212.12|                  10|            178.44|                    6|       244|Manhattan|Washington Height...|   Boro Zone|\n",
      "|2021-04-30 02:00:00|  93|        28.8|                   1|              null|                 null|        93|   Queens|Flushing Meadows-...|   Boro Zone|\n",
      "|2021-03-26 17:00:00| 180|       36.86|                   1|              null|                 null|       180|   Queens|          Ozone Park|   Boro Zone|\n",
      "|2020-11-15 14:00:00|  35|        22.0|                   1|             39.76|                    1|        35| Brooklyn|         Brownsville|   Boro Zone|\n",
      "|2020-03-05 23:00:00|  70|        15.3|                   1|              null|                 null|        70|   Queens|       East Elmhurst|   Boro Zone|\n",
      "|2020-12-02 08:00:00|  36|        null|                null|             25.96|                    1|        36| Brooklyn|      Bushwick North|   Boro Zone|\n",
      "|2020-02-11 09:00:00| 125|        null|                null|           1308.71|                   82|       125|Manhattan|           Hudson Sq| Yellow Zone|\n",
      "|2020-01-25 05:00:00| 162|        null|                null|            515.88|                   25|       162|Manhattan|        Midtown East| Yellow Zone|\n",
      "|2020-08-27 20:00:00| 181|        null|                null|              22.0|                    1|       181| Brooklyn|          Park Slope|   Boro Zone|\n",
      "|2021-06-08 17:00:00| 163|        null|                null| 4461.119999999997|                  249|       163|Manhattan|       Midtown North| Yellow Zone|\n",
      "|2020-01-15 05:00:00|  24|        null|                null|             87.84|                    7|        24|Manhattan|        Bloomingdale| Yellow Zone|\n",
      "|2020-08-02 19:00:00| 152|        null|                null|              33.3|                    1|       152|Manhattan|      Manhattanville|   Boro Zone|\n",
      "|2020-04-10 04:00:00|  91|       24.79|                   1|             19.87|                    1|        91| Brooklyn|           Flatlands|   Boro Zone|\n",
      "|2020-04-20 00:00:00| 236|        null|                null|             31.01|                    2|       236|Manhattan|Upper East Side N...| Yellow Zone|\n",
      "|2021-05-13 03:00:00| 232|        null|                null|             32.27|                    1|       232|Manhattan|Two Bridges/Sewar...| Yellow Zone|\n",
      "|2021-07-22 13:00:00| 163|        null|                null|2668.7799999999984|                  161|       163|Manhattan|       Midtown North| Yellow Zone|\n",
      "|2020-07-07 09:00:00| 148|        null|                null|              10.8|                    1|       148|Manhattan|     Lower East Side| Yellow Zone|\n",
      "|2020-12-29 21:00:00|  50|        null|                null|            142.63|                    5|        50|Manhattan|        Clinton West| Yellow Zone|\n",
      "|2021-07-25 21:00:00| 234|        null|                null|1413.7200000000003|                   93|       234|Manhattan|            Union Sq| Yellow Zone|\n",
      "+-------------------+----+------------+--------------------+------------------+---------------------+----------+---------+--------------------+------------+\n",
      "only showing top 20 rows\n",
      "\n"
     ]
    }
   ],
   "source": [
    "df_result.show()"
   ]
  },
  {
   "cell_type": "code",
   "execution_count": 36,
   "id": "5e0614ba",
   "metadata": {},
   "outputs": [],
   "source": [
    "df_result.drop('LocationID', 'zone').write.parquet('tmp/revenue-zones', mode='overwrite')"
   ]
  },
  {
   "cell_type": "code",
   "execution_count": 37,
   "id": "9f5ca913",
   "metadata": {},
   "outputs": [],
   "source": [
    "spark.stop()"
   ]
  }
 ],
 "metadata": {
  "kernelspec": {
   "display_name": "DTC_pyspark",
   "language": "python",
   "name": "python3"
  },
  "language_info": {
   "codemirror_mode": {
    "name": "ipython",
    "version": 3
   },
   "file_extension": ".py",
   "mimetype": "text/x-python",
   "name": "python",
   "nbconvert_exporter": "python",
   "pygments_lexer": "ipython3",
   "version": "3.9.16"
  },
  "vscode": {
   "interpreter": {
    "hash": "825b62e52d4419b2f114de154bf54b39d85add2aaf9e637fb81765cc150954ec"
   }
  }
 },
 "nbformat": 4,
 "nbformat_minor": 5
}
